{
 "cells": [
  {
   "cell_type": "code",
   "execution_count": 82,
   "id": "73595b73-16e8-471f-bce3-f76a6a27f90c",
   "metadata": {},
   "outputs": [
    {
     "name": "stdout",
     "output_type": "stream",
     "text": [
      "Defaulting to user installation because normal site-packages is not writeable\n",
      "Requirement already satisfied: tqdm in c:\\users\\anujc\\appdata\\roaming\\python\\python312\\site-packages (4.66.5)\n",
      "Requirement already satisfied: colorama in c:\\users\\anujc\\appdata\\roaming\\python\\python312\\site-packages (from tqdm) (0.4.6)\n",
      "Defaulting to user installation because normal site-packages is not writeable\n",
      "Requirement already satisfied: bs4 in c:\\users\\anujc\\appdata\\roaming\\python\\python312\\site-packages (0.0.2)\n",
      "Requirement already satisfied: beautifulsoup4 in c:\\users\\anujc\\appdata\\roaming\\python\\python312\\site-packages (from bs4) (4.12.3)\n",
      "Requirement already satisfied: soupsieve>1.2 in c:\\users\\anujc\\appdata\\roaming\\python\\python312\\site-packages (from beautifulsoup4->bs4) (2.5)\n"
     ]
    }
   ],
   "source": [
    "!pip install tqdm\n",
    "!pip install bs4"
   ]
  },
  {
   "cell_type": "code",
   "execution_count": 83,
   "id": "78129e91-963c-45c4-8cdf-044b0bb97d42",
   "metadata": {},
   "outputs": [],
   "source": [
    "import requests\n",
    "from bs4 import BeautifulSoup\n",
    "from tqdm import tqdm\n",
    "import pandas as pd"
   ]
  },
  {
   "cell_type": "code",
   "execution_count": 62,
   "id": "aab3ee7a-8eb9-40c0-a7b7-2485ff9fccb7",
   "metadata": {},
   "outputs": [],
   "source": [
    "link='https://quotes.toscrape.com/'"
   ]
  },
  {
   "cell_type": "code",
   "execution_count": 63,
   "id": "c75462b0-cd10-417a-8fc1-2769124680fa",
   "metadata": {},
   "outputs": [],
   "source": [
    "res=requests.get(link)"
   ]
  },
  {
   "cell_type": "code",
   "execution_count": 64,
   "id": "ab22f979-c5fd-4ef9-b984-742839652720",
   "metadata": {},
   "outputs": [
    {
     "data": {
      "text/plain": [
       "<Response [200]>"
      ]
     },
     "execution_count": 64,
     "metadata": {},
     "output_type": "execute_result"
    }
   ],
   "source": [
    "res"
   ]
  },
  {
   "cell_type": "code",
   "execution_count": 65,
   "id": "5bd35005-fd4f-487a-b3e4-3d6dc9d84e9f",
   "metadata": {},
   "outputs": [],
   "source": [
    "html = res.text"
   ]
  },
  {
   "cell_type": "code",
   "execution_count": 66,
   "id": "98b5719f-7bba-4687-a9fb-c2dad95c697c",
   "metadata": {},
   "outputs": [],
   "source": [
    "fd = open('main.html', 'w', encoding='utf-8')\n",
    "fd.write(html)\n",
    "fd.close()"
   ]
  },
  {
   "cell_type": "code",
   "execution_count": 67,
   "id": "24c897af-c309-426d-a54d-8a22894b86de",
   "metadata": {},
   "outputs": [],
   "source": [
    "amazon='https://www.amazon.in/b?node=21541572031'"
   ]
  },
  {
   "cell_type": "code",
   "execution_count": 68,
   "id": "8604f7f8-937a-4825-ad54-ef73c41712f5",
   "metadata": {},
   "outputs": [],
   "source": [
    "amazon_res=requests.get(amazon)"
   ]
  },
  {
   "cell_type": "code",
   "execution_count": 69,
   "id": "f3fc24b2-536a-4cc1-a815-a34c7ea231ec",
   "metadata": {},
   "outputs": [
    {
     "data": {
      "text/plain": [
       "<Response [200]>"
      ]
     },
     "execution_count": 69,
     "metadata": {},
     "output_type": "execute_result"
    }
   ],
   "source": [
    "amazon_res"
   ]
  },
  {
   "cell_type": "code",
   "execution_count": 70,
   "id": "1e1ff97f-6fa7-45bf-89db-c49816f7645e",
   "metadata": {},
   "outputs": [],
   "source": [
    "amazon_html= amazon_res.text"
   ]
  },
  {
   "cell_type": "code",
   "execution_count": 71,
   "id": "7379bcbf-254f-4dba-9466-d74ee3b49fad",
   "metadata": {},
   "outputs": [
    {
     "data": {
      "text/plain": [
       "<function TextIOWrapper.close()>"
      ]
     },
     "execution_count": 71,
     "metadata": {},
     "output_type": "execute_result"
    }
   ],
   "source": [
    "fd=open('amazon.html','w',encoding='utf-8')\n",
    "fd.write(amazon_html)\n",
    "fd.close"
   ]
  },
  {
   "cell_type": "markdown",
   "id": "91b0a145-0553-4377-92e6-6e9e8c71a920",
   "metadata": {},
   "source": [
    "# Scraping Articles with Author Details"
   ]
  },
  {
   "cell_type": "code",
   "execution_count": 73,
   "id": "616447da-42cc-432a-b435-cc5914e63da7",
   "metadata": {},
   "outputs": [],
   "source": [
    "soup =BeautifulSoup(html,'html.parser')"
   ]
  },
  {
   "cell_type": "code",
   "execution_count": 74,
   "id": "a813204f-a56f-49ee-bf2a-745f15094299",
   "metadata": {},
   "outputs": [],
   "source": [
    "data=[]\n",
    "for sp in soup.find_all('div',class_='quote'):\n",
    "    qoute=sp.find('span',class_='text').text[1:-1]\n",
    "    author=sp.find('small').text\n",
    "    author_id = sp.find('a').get('href')\n",
    "    tags=[]\n",
    "    for tag in sp.find_all('a',class_='tag'):\n",
    "        tags.append(tag.text)\n",
    "    tags= ','.join(tags)\n",
    "    data.append([qoute,author,author_id,tags])"
   ]
  },
  {
   "cell_type": "markdown",
   "id": "714a94af-6b41-4780-bc4a-fca8e0c49d2d",
   "metadata": {},
   "source": [
    "# Scraping Data from Multiple Pages"
   ]
  },
  {
   "cell_type": "code",
   "execution_count": 84,
   "id": "baad6424-bbd4-444c-a7d7-d351a7f1ad0c",
   "metadata": {},
   "outputs": [
    {
     "name": "stderr",
     "output_type": "stream",
     "text": [
      "100%|████████████████████████████████████████████████████████████████████████████████████| 9/9 [00:21<00:00,  2.41s/it]\n"
     ]
    }
   ],
   "source": [
    "for pages in tqdm(range(2,11)):\n",
    "    link='https://quotes.toscrape.com/page/'+str(pages)\n",
    "    res = requests.get(link)\n",
    "    soup = BeautifulSoup(res.text,'html.parser')\n",
    "    for sp in soup.find_all('div',class_='quote'):\n",
    "        qoute=sp.find('span',class_='text').text[1:-1]\n",
    "        author=sp.find('small').text\n",
    "        author_id = sp.find('a').get('href')\n",
    "        tags=[]\n",
    "        for tag in sp.find_all('a',class_='tag'):\n",
    "            tags.append(tag.text)\n",
    "        tags= ','.join(tags)\n",
    "        data.append([qoute,author,author_id,tags])"
   ]
  },
  {
   "cell_type": "code",
   "execution_count": 78,
   "id": "baf14414-1253-4b9c-ae17-a5e318ca6746",
   "metadata": {},
   "outputs": [],
   "source": [
    "df=pd.DataFrame(data,columns=['Qoute','Author','Author_id','Tags'])"
   ]
  },
  {
   "cell_type": "code",
   "execution_count": 92,
   "id": "84dc513e-1805-44f3-8a16-a8af6a730405",
   "metadata": {},
   "outputs": [],
   "source": [
    "df['Author_Link']='https://quotes.toscrape.com'+df['Author_id']"
   ]
  },
  {
   "cell_type": "code",
   "execution_count": 94,
   "id": "ee28a817-0f78-4e76-bf25-35e0ecadff93",
   "metadata": {},
   "outputs": [],
   "source": [
    "df.to_csv('Qoutes.csv',index=False)"
   ]
  },
  {
   "cell_type": "code",
   "execution_count": null,
   "id": "38e0536a-1c16-4114-81bd-b71e2555bddd",
   "metadata": {},
   "outputs": [],
   "source": []
  }
 ],
 "metadata": {
  "kernelspec": {
   "display_name": "Python 3 (ipykernel)",
   "language": "python",
   "name": "python3"
  },
  "language_info": {
   "codemirror_mode": {
    "name": "ipython",
    "version": 3
   },
   "file_extension": ".py",
   "mimetype": "text/x-python",
   "name": "python",
   "nbconvert_exporter": "python",
   "pygments_lexer": "ipython3",
   "version": "3.12.3"
  }
 },
 "nbformat": 4,
 "nbformat_minor": 5
}
